{
 "cells": [
  {
   "cell_type": "code",
   "execution_count": 1,
   "metadata": {
    "collapsed": true
   },
   "outputs": [],
   "source": [
    "import pandas as pd\n",
    "import sys\n",
    "import os\n",
    "currentDir= os.getcwd()\n",
    "os.chdir(currentDir+'/../')\n",
    "import numpy as np\n",
    "import scipy as sp\n",
    "import matplotlib.pyplot as plt\n",
    "%matplotlib inline"
   ]
  },
  {
   "cell_type": "code",
   "execution_count": 2,
   "metadata": {},
   "outputs": [],
   "source": [
    "# data file is in PB-T/\n",
    "data_all = pd.read_csv('data/cleanLoan.csv', low_memory=False)"
   ]
  },
  {
   "cell_type": "code",
   "execution_count": 3,
   "metadata": {},
   "outputs": [
    {
     "name": "stdout",
     "output_type": "stream",
     "text": [
      "Index([u'Unnamed: 0', u'loan_amnt', u'funded_amnt', u'funded_amnt_inv',\n",
      "       u'term', u'int_rate', u'installment', u'grade', u'sub_grade',\n",
      "       u'emp_length', u'home_ownership', u'annual_inc', u'verification_status',\n",
      "       u'issue_d', u'loan_status', u'pymnt_plan', u'purpose', u'title',\n",
      "       u'zip_code', u'addr_state', u'dti', u'delinq_2yrs', u'earliest_cr_line',\n",
      "       u'inq_last_6mths', u'open_acc', u'pub_rec', u'revol_bal', u'revol_util',\n",
      "       u'total_acc', u'initial_list_status', u'out_prncp', u'out_prncp_inv',\n",
      "       u'total_pymnt', u'total_pymnt_inv', u'total_rec_prncp',\n",
      "       u'total_rec_int', u'total_rec_late_fee', u'recoveries',\n",
      "       u'collection_recovery_fee', u'last_pymnt_d', u'last_pymnt_amnt',\n",
      "       u'next_pymnt_d', u'last_credit_pull_d', u'collections_12_mths_ex_med',\n",
      "       u'policy_code', u'application_type', u'acc_now_delinq', u'tot_coll_amt',\n",
      "       u'tot_cur_bal', u'total_rev_hi_lim'],\n",
      "      dtype='object')\n",
      "(887379, 50)\n"
     ]
    }
   ],
   "source": [
    "print data_all.columns\n",
    "print data_all.shape"
   ]
  },
  {
   "cell_type": "code",
   "execution_count": 4,
   "metadata": {
    "collapsed": true
   },
   "outputs": [],
   "source": [
    "from getRiskCol import getRiskCol"
   ]
  },
  {
   "cell_type": "code",
   "execution_count": 5,
   "metadata": {
    "collapsed": true
   },
   "outputs": [],
   "source": [
    "#data_all['risk']= data_all['loan_status']  # create a new column\n",
    "data_all['risk'], conversionDict= getRiskCol(data_all['loan_status'], returnCoversionDict= True)"
   ]
  },
  {
   "cell_type": "code",
   "execution_count": 6,
   "metadata": {},
   "outputs": [
    {
     "data": {
      "text/plain": [
       "{'Charged Off': 'Default',\n",
       " 'Current': 'Maybe',\n",
       " 'Default': 'Default',\n",
       " 'Does not meet the credit policy. Status:Charged Off': 'Default',\n",
       " 'Does not meet the credit policy. Status:Fully Paid': 'NotDefault',\n",
       " 'Fully Paid': 'NotDefault',\n",
       " 'In Grace Period': 'Maybe',\n",
       " 'Issued': 'Maybe',\n",
       " 'Late (16-30 days)': 'Maybe',\n",
       " 'Late (31-120 days)': 'Maybe'}"
      ]
     },
     "execution_count": 6,
     "metadata": {},
     "output_type": "execute_result"
    }
   ],
   "source": [
    "conversionDict"
   ]
  },
  {
   "cell_type": "code",
   "execution_count": 7,
   "metadata": {},
   "outputs": [
    {
     "name": "stdout",
     "output_type": "stream",
     "text": [
      "Default 47228\n",
      "Maybe 630440\n",
      "NotDefault 209711\n"
     ]
    }
   ],
   "source": [
    "for riskType in np.unique(data_all['risk']):\n",
    "    print riskType, len(np.where(data_all['risk']==riskType)[0])"
   ]
  },
  {
   "cell_type": "code",
   "execution_count": 8,
   "metadata": {},
   "outputs": [
    {
     "name": "stdout",
     "output_type": "stream",
     "text": [
      "Index([u'Unnamed: 0', u'loan_amnt', u'funded_amnt', u'funded_amnt_inv',\n",
      "       u'term', u'int_rate', u'installment', u'grade', u'sub_grade',\n",
      "       u'emp_length', u'home_ownership', u'annual_inc', u'verification_status',\n",
      "       u'issue_d', u'loan_status', u'pymnt_plan', u'purpose', u'title',\n",
      "       u'zip_code', u'addr_state', u'dti', u'delinq_2yrs', u'earliest_cr_line',\n",
      "       u'inq_last_6mths', u'open_acc', u'pub_rec', u'revol_bal', u'revol_util',\n",
      "       u'total_acc', u'initial_list_status', u'out_prncp', u'out_prncp_inv',\n",
      "       u'total_pymnt', u'total_pymnt_inv', u'total_rec_prncp',\n",
      "       u'total_rec_int', u'total_rec_late_fee', u'recoveries',\n",
      "       u'collection_recovery_fee', u'last_pymnt_d', u'last_pymnt_amnt',\n",
      "       u'next_pymnt_d', u'last_credit_pull_d', u'collections_12_mths_ex_med',\n",
      "       u'policy_code', u'application_type', u'acc_now_delinq', u'tot_coll_amt',\n",
      "       u'tot_cur_bal', u'total_rev_hi_lim', u'risk'],\n",
      "      dtype='object')\n",
      "(887379, 51)\n"
     ]
    }
   ],
   "source": [
    "print data_all.columns\n",
    "print data_all.shape"
   ]
  },
  {
   "cell_type": "markdown",
   "metadata": {},
   "source": [
    "Ok so risk is added."
   ]
  },
  {
   "cell_type": "code",
   "execution_count": 9,
   "metadata": {},
   "outputs": [
    {
     "data": {
      "text/plain": [
       "0    NotDefault\n",
       "1       Default\n",
       "2    NotDefault\n",
       "3    NotDefault\n",
       "4         Maybe\n",
       "5    NotDefault\n",
       "6         Maybe\n",
       "7    NotDefault\n",
       "8       Default\n",
       "9       Default\n",
       "Name: risk, dtype: object"
      ]
     },
     "execution_count": 9,
     "metadata": {},
     "output_type": "execute_result"
    }
   ],
   "source": [
    "data_all['risk'][0:10]"
   ]
  },
  {
   "cell_type": "code",
   "execution_count": null,
   "metadata": {
    "collapsed": true
   },
   "outputs": [],
   "source": []
  }
 ],
 "metadata": {
  "kernelspec": {
   "display_name": "Python 2",
   "language": "python",
   "name": "python2"
  },
  "language_info": {
   "codemirror_mode": {
    "name": "ipython",
    "version": 2
   },
   "file_extension": ".py",
   "mimetype": "text/x-python",
   "name": "python",
   "nbconvert_exporter": "python",
   "pygments_lexer": "ipython2",
   "version": "2.7.13"
  }
 },
 "nbformat": 4,
 "nbformat_minor": 2
}
