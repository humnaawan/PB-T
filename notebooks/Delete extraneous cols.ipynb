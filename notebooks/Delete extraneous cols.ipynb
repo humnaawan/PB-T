{
 "cells": [
  {
   "cell_type": "code",
   "execution_count": 1,
   "metadata": {
    "collapsed": true
   },
   "outputs": [],
   "source": [
    "import pandas as pd\n",
    "import sys\n",
    "import os\n",
    "currentDir= os.getcwd()\n",
    "os.chdir(currentDir+'/../')\n",
    "\n",
    "import numpy as np\n",
    "import matplotlib.pyplot as plt\n",
    "%matplotlib inline"
   ]
  },
  {
   "cell_type": "code",
   "execution_count": 2,
   "metadata": {
    "collapsed": true
   },
   "outputs": [],
   "source": [
    "data_all = pd.read_csv('data/cleanLoan.csv', low_memory=False, index_col=0)"
   ]
  },
  {
   "cell_type": "code",
   "execution_count": 3,
   "metadata": {},
   "outputs": [
    {
     "name": "stdout",
     "output_type": "stream",
     "text": [
      "Index([u'loan_amnt', u'funded_amnt', u'funded_amnt_inv', u'term', u'int_rate',\n",
      "       u'installment', u'grade', u'sub_grade', u'emp_length',\n",
      "       u'home_ownership', u'annual_inc', u'verification_status', u'issue_d',\n",
      "       u'loan_status', u'pymnt_plan', u'purpose', u'title', u'zip_code',\n",
      "       u'addr_state', u'dti', u'delinq_2yrs', u'earliest_cr_line',\n",
      "       u'inq_last_6mths', u'open_acc', u'pub_rec', u'revol_bal', u'revol_util',\n",
      "       u'total_acc', u'initial_list_status', u'out_prncp', u'out_prncp_inv',\n",
      "       u'total_pymnt', u'total_pymnt_inv', u'total_rec_prncp',\n",
      "       u'total_rec_int', u'total_rec_late_fee', u'recoveries',\n",
      "       u'collection_recovery_fee', u'last_pymnt_d', u'last_pymnt_amnt',\n",
      "       u'next_pymnt_d', u'last_credit_pull_d', u'collections_12_mths_ex_med',\n",
      "       u'policy_code', u'application_type', u'acc_now_delinq', u'tot_coll_amt',\n",
      "       u'tot_cur_bal', u'total_rev_hi_lim'],\n",
      "      dtype='object')\n",
      "(887379, 49)\n"
     ]
    }
   ],
   "source": [
    "print data_all.columns\n",
    "print data_all.shape"
   ]
  },
  {
   "cell_type": "code",
   "execution_count": 4,
   "metadata": {
    "collapsed": true
   },
   "outputs": [],
   "source": [
    "ignore= ['issue_d', 'last_pymnt_d' , 'title', 'next_pymnt_d', 'last_pymnt_amnt', 'policy_code']"
   ]
  },
  {
   "cell_type": "code",
   "execution_count": 5,
   "metadata": {},
   "outputs": [
    {
     "name": "stdout",
     "output_type": "stream",
     "text": [
      "issue_d col:\n",
      "['Apr-2008' 'Apr-2009' 'Apr-2010' 'Apr-2011' 'Apr-2012' 'Apr-2013'\n",
      " 'Apr-2014' 'Apr-2015' 'Aug-2007' 'Aug-2008' 'Aug-2009' 'Aug-2010'\n",
      " 'Aug-2011' 'Aug-2012' 'Aug-2013' 'Aug-2014' 'Aug-2015' 'Dec-2007'\n",
      " 'Dec-2008' 'Dec-2009' 'Dec-2010' 'Dec-2011' 'Dec-2012' 'Dec-2013'\n",
      " 'Dec-2014' 'Dec-2015' 'Feb-2008' 'Feb-2009' 'Feb-2010' 'Feb-2011'\n",
      " 'Feb-2012' 'Feb-2013' 'Feb-2014' 'Feb-2015' 'Jan-2008' 'Jan-2009'\n",
      " 'Jan-2010' 'Jan-2011' 'Jan-2012' 'Jan-2013' 'Jan-2014' 'Jan-2015'\n",
      " 'Jul-2007' 'Jul-2008' 'Jul-2009' 'Jul-2010' 'Jul-2011' 'Jul-2012'\n",
      " 'Jul-2013' 'Jul-2014' 'Jul-2015' 'Jun-2007' 'Jun-2008' 'Jun-2009'\n",
      " 'Jun-2010' 'Jun-2011' 'Jun-2012' 'Jun-2013' 'Jun-2014' 'Jun-2015'\n",
      " 'Mar-2008' 'Mar-2009' 'Mar-2010' 'Mar-2011' 'Mar-2012' 'Mar-2013'\n",
      " 'Mar-2014' 'Mar-2015' 'May-2008' 'May-2009' 'May-2010' 'May-2011'\n",
      " 'May-2012' 'May-2013' 'May-2014' 'May-2015' 'Nov-2007' 'Nov-2008'\n",
      " 'Nov-2009' 'Nov-2010' 'Nov-2011' 'Nov-2012' 'Nov-2013' 'Nov-2014'\n",
      " 'Nov-2015' 'Oct-2007' 'Oct-2008' 'Oct-2009' 'Oct-2010' 'Oct-2011'\n",
      " 'Oct-2012' 'Oct-2013' 'Oct-2014' 'Oct-2015' 'Sep-2007' 'Sep-2008'\n",
      " 'Sep-2009' 'Sep-2010' 'Sep-2011' 'Sep-2012' 'Sep-2013' 'Sep-2014'\n",
      " 'Sep-2015']\n",
      "\n",
      "last_pymnt_d col:\n",
      "[nan nan nan ..., 'Sep-2013' 'Sep-2014' 'Sep-2015']\n",
      "\n",
      "title col:\n",
      "[nan nan nan ..., '~Life Reorganization~' '~Summer Fun~'\n",
      " '\\xc3\\xae\\xc2\\x81\\xc2\\x97\\xc3\\xae\\xc2\\x81\\xc2\\x97MY FIRST CAR \\xc3\\xae\\xc2\\x81\\xc2\\x97\\xc3\\xae\\xc2\\x81\\xc2\\x97']\n",
      "\n",
      "next_pymnt_d col:\n",
      "[nan nan nan ..., 'Sep-2013' 'Sep-2014' 'Sep-2015']\n",
      "\n",
      "last_pymnt_amnt col:\n",
      "[  0.00000000e+00   1.00000000e-02   2.00000000e-02 ...,   3.62575900e+04\n",
      "   3.63470500e+04   3.64755900e+04]\n",
      "\n",
      "policy_code col:\n",
      "[1]\n",
      "\n"
     ]
    }
   ],
   "source": [
    "for col in ignore:\n",
    "    print ('%s col:\\n%s\\n')%(col, np.unique(data_all[col]))\n",
    "    data_all.drop(col, axis=1, inplace=True)"
   ]
  },
  {
   "cell_type": "code",
   "execution_count": 6,
   "metadata": {},
   "outputs": [
    {
     "name": "stdout",
     "output_type": "stream",
     "text": [
      "Index([u'loan_amnt', u'funded_amnt', u'funded_amnt_inv', u'term', u'int_rate',\n",
      "       u'installment', u'grade', u'sub_grade', u'emp_length',\n",
      "       u'home_ownership', u'annual_inc', u'verification_status',\n",
      "       u'loan_status', u'pymnt_plan', u'purpose', u'zip_code', u'addr_state',\n",
      "       u'dti', u'delinq_2yrs', u'earliest_cr_line', u'inq_last_6mths',\n",
      "       u'open_acc', u'pub_rec', u'revol_bal', u'revol_util', u'total_acc',\n",
      "       u'initial_list_status', u'out_prncp', u'out_prncp_inv', u'total_pymnt',\n",
      "       u'total_pymnt_inv', u'total_rec_prncp', u'total_rec_int',\n",
      "       u'total_rec_late_fee', u'recoveries', u'collection_recovery_fee',\n",
      "       u'last_credit_pull_d', u'collections_12_mths_ex_med',\n",
      "       u'application_type', u'acc_now_delinq', u'tot_coll_amt', u'tot_cur_bal',\n",
      "       u'total_rev_hi_lim'],\n",
      "      dtype='object')\n",
      "(887379, 43)\n"
     ]
    }
   ],
   "source": [
    "print data_all.columns\n",
    "print data_all.shape"
   ]
  },
  {
   "cell_type": "code",
   "execution_count": 7,
   "metadata": {
    "collapsed": true
   },
   "outputs": [],
   "source": [
    "data_all.to_csv('data/cleanerData.csv', index=False)"
   ]
  },
  {
   "cell_type": "code",
   "execution_count": 8,
   "metadata": {},
   "outputs": [
    {
     "name": "stdout",
     "output_type": "stream",
     "text": [
      "Index([u'loan_amnt', u'funded_amnt', u'funded_amnt_inv', u'term', u'int_rate',\n",
      "       u'installment', u'grade', u'sub_grade', u'emp_length',\n",
      "       u'home_ownership', u'annual_inc', u'verification_status',\n",
      "       u'loan_status', u'pymnt_plan', u'purpose', u'zip_code', u'addr_state',\n",
      "       u'dti', u'delinq_2yrs', u'earliest_cr_line', u'inq_last_6mths',\n",
      "       u'open_acc', u'pub_rec', u'revol_bal', u'revol_util', u'total_acc',\n",
      "       u'initial_list_status', u'out_prncp', u'out_prncp_inv', u'total_pymnt',\n",
      "       u'total_pymnt_inv', u'total_rec_prncp', u'total_rec_int',\n",
      "       u'total_rec_late_fee', u'recoveries', u'collection_recovery_fee',\n",
      "       u'last_credit_pull_d', u'collections_12_mths_ex_med',\n",
      "       u'application_type', u'acc_now_delinq', u'tot_coll_amt', u'tot_cur_bal',\n",
      "       u'total_rev_hi_lim'],\n",
      "      dtype='object')\n",
      "(887379, 43)\n"
     ]
    }
   ],
   "source": [
    "check = pd.read_csv('data/cleanerData.csv', low_memory=False)\n",
    "print check.columns\n",
    "print check.shape"
   ]
  },
  {
   "cell_type": "markdown",
   "metadata": {
    "collapsed": true
   },
   "source": [
    "Ok things see to be ok."
   ]
  },
  {
   "cell_type": "code",
   "execution_count": null,
   "metadata": {
    "collapsed": true
   },
   "outputs": [],
   "source": []
  }
 ],
 "metadata": {
  "kernelspec": {
   "display_name": "Python 2",
   "language": "python",
   "name": "python2"
  },
  "language_info": {
   "codemirror_mode": {
    "name": "ipython",
    "version": 2
   },
   "file_extension": ".py",
   "mimetype": "text/x-python",
   "name": "python",
   "nbconvert_exporter": "python",
   "pygments_lexer": "ipython2",
   "version": "2.7.13"
  }
 },
 "nbformat": 4,
 "nbformat_minor": 2
}
